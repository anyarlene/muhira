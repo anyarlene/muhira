{
 "cells": [
  {
   "cell_type": "code",
   "execution_count": 1,
   "id": "prerequisite-integrity",
   "metadata": {},
   "outputs": [],
   "source": [
    "import json\n",
    "import pandas as pd\n",
    "import isodate"
   ]
  },
  {
   "cell_type": "code",
   "execution_count": 24,
   "id": "unlikely-demonstration",
   "metadata": {},
   "outputs": [
    {
     "name": "stdout",
     "output_type": "stream",
     "text": [
      "UC7TaNWr6GltNDVP8klOwmBw\n"
     ]
    }
   ],
   "source": [
    "file =\"mb_data_boy.json\"\n",
    "\n",
    "data = None\n",
    "with open(file, 'r') as f:\n",
    "    data = json.load(f)\n",
    "    \n",
    "channel_id, stats = data.popitem()\n",
    "channel_stats = stats[\"channel_statistics\"]\n",
    "video_stats = stats[\"video_data\"]\n",
    "print(channel_id)"
   ]
  },
  {
   "cell_type": "code",
   "execution_count": 27,
   "id": "liable-hudson",
   "metadata": {},
   "outputs": [
    {
     "name": "stdout",
     "output_type": "stream",
     "text": [
      "views 409041\n",
      "video 10\n"
     ]
    }
   ],
   "source": [
    "# channel statistics\n",
    "\n",
    "print('views', channel_stats['viewCount'])\n",
    "#print('subsriber', channel_stats['subscriberCount'])\n",
    "print('video', channel_stats['videoCount'])"
   ]
  },
  {
   "cell_type": "code",
   "execution_count": 28,
   "id": "entitled-bankruptcy",
   "metadata": {},
   "outputs": [],
   "source": [
    "# video statistics\n",
    "\n",
    "sorted_vids = sorted(video_stats.items(), key = lambda item: int(item[1][\"viewCount\"]), reverse=True)\n",
    "\n",
    "stats = []\n",
    "\n",
    "for vid in sorted_vids:\n",
    "    video_id = vid[0]\n",
    "    published_date = vid[1][\"publishedAt\"]\n",
    "    artist = vid[1]['channelTitle']\n",
    "    title = vid[1][\"title\"]\n",
    "    views = vid[1][\"viewCount\"]\n",
    "    likes = vid[1][\"likeCount\"]\n",
    "    dislikes = vid[1][\"dislikeCount\"]\n",
    "    #comments = vid[1][\"commentCount\"]\n",
    "    duration = vid[1][\"duration\"]\n",
    "    stats.append([published_date,artist, title,likes, dislikes, views, duration ])"
   ]
  },
  {
   "cell_type": "code",
   "execution_count": 29,
   "id": "sorted-witness",
   "metadata": {},
   "outputs": [
    {
     "data": {
      "text/html": [
       "<div>\n",
       "<style scoped>\n",
       "    .dataframe tbody tr th:only-of-type {\n",
       "        vertical-align: middle;\n",
       "    }\n",
       "\n",
       "    .dataframe tbody tr th {\n",
       "        vertical-align: top;\n",
       "    }\n",
       "\n",
       "    .dataframe thead th {\n",
       "        text-align: right;\n",
       "    }\n",
       "</style>\n",
       "<table border=\"1\" class=\"dataframe\">\n",
       "  <thead>\n",
       "    <tr style=\"text-align: right;\">\n",
       "      <th></th>\n",
       "      <th>published_date</th>\n",
       "      <th>artist</th>\n",
       "      <th>title</th>\n",
       "      <th>likes</th>\n",
       "      <th>dislikes</th>\n",
       "      <th>views</th>\n",
       "      <th>duration</th>\n",
       "      <th>duration2</th>\n",
       "    </tr>\n",
       "  </thead>\n",
       "  <tbody>\n",
       "    <tr>\n",
       "      <th>0</th>\n",
       "      <td>2020-11-09 08:15:27+00:00</td>\n",
       "      <td>MB DATA Boy</td>\n",
       "      <td>Dj Chento - Ndahwera ft MB Data &amp; Esther Nish</td>\n",
       "      <td>3783</td>\n",
       "      <td>111</td>\n",
       "      <td>183056</td>\n",
       "      <td>PT3M4S</td>\n",
       "      <td>0 days 00:03:04</td>\n",
       "    </tr>\n",
       "    <tr>\n",
       "      <th>1</th>\n",
       "      <td>2020-08-25 08:53:21+00:00</td>\n",
       "      <td>MB DATA Boy</td>\n",
       "      <td>Mb Data - Bucece (Official Video)</td>\n",
       "      <td>2981</td>\n",
       "      <td>51</td>\n",
       "      <td>91720</td>\n",
       "      <td>PT3M41S</td>\n",
       "      <td>0 days 00:03:41</td>\n",
       "    </tr>\n",
       "    <tr>\n",
       "      <th>2</th>\n",
       "      <td>2020-12-19 20:32:49+00:00</td>\n",
       "      <td>MB DATA Boy</td>\n",
       "      <td>Mb Data - Mawe (Official Video)</td>\n",
       "      <td>2375</td>\n",
       "      <td>43</td>\n",
       "      <td>49273</td>\n",
       "      <td>PT3M5S</td>\n",
       "      <td>0 days 00:03:05</td>\n",
       "    </tr>\n",
       "    <tr>\n",
       "      <th>3</th>\n",
       "      <td>2021-01-20 10:23:19+00:00</td>\n",
       "      <td>MB DATA Boy</td>\n",
       "      <td>Mb Data - Fata (Official video Lyrics)</td>\n",
       "      <td>1779</td>\n",
       "      <td>26</td>\n",
       "      <td>27531</td>\n",
       "      <td>PT2M56S</td>\n",
       "      <td>0 days 00:02:56</td>\n",
       "    </tr>\n",
       "    <tr>\n",
       "      <th>4</th>\n",
       "      <td>2020-07-08 10:00:18+00:00</td>\n",
       "      <td>MB DATA Boy</td>\n",
       "      <td>Mb Data - Nokunangararako (Official Audio)</td>\n",
       "      <td>1230</td>\n",
       "      <td>21</td>\n",
       "      <td>20834</td>\n",
       "      <td>PT2M49S</td>\n",
       "      <td>0 days 00:02:49</td>\n",
       "    </tr>\n",
       "    <tr>\n",
       "      <th>5</th>\n",
       "      <td>2020-09-27 15:14:31+00:00</td>\n",
       "      <td>MB DATA Boy</td>\n",
       "      <td>MB Data - Izo niBiya (Official Audio)</td>\n",
       "      <td>1122</td>\n",
       "      <td>10</td>\n",
       "      <td>18416</td>\n",
       "      <td>PT1M57S</td>\n",
       "      <td>0 days 00:01:57</td>\n",
       "    </tr>\n",
       "    <tr>\n",
       "      <th>6</th>\n",
       "      <td>2020-08-05 08:22:24+00:00</td>\n",
       "      <td>MB DATA Boy</td>\n",
       "      <td>GITEGA full Live Performance by MB Data</td>\n",
       "      <td>163</td>\n",
       "      <td>1</td>\n",
       "      <td>1542</td>\n",
       "      <td>PT36M24S</td>\n",
       "      <td>0 days 00:36:24</td>\n",
       "    </tr>\n",
       "    <tr>\n",
       "      <th>7</th>\n",
       "      <td>2020-08-05 08:21:54+00:00</td>\n",
       "      <td>MB DATA Boy</td>\n",
       "      <td>MB Data V.I.P Concert (Kigobe Summer Party) Fu...</td>\n",
       "      <td>73</td>\n",
       "      <td>0</td>\n",
       "      <td>797</td>\n",
       "      <td>PT42M3S</td>\n",
       "      <td>0 days 00:42:03</td>\n",
       "    </tr>\n",
       "    <tr>\n",
       "      <th>8</th>\n",
       "      <td>2020-09-07 11:32:18+00:00</td>\n",
       "      <td>MB DATA Boy</td>\n",
       "      <td>MB Data Full Performance in SOROREZO/ BUJUMBUR...</td>\n",
       "      <td>72</td>\n",
       "      <td>2</td>\n",
       "      <td>749</td>\n",
       "      <td>PT44M31S</td>\n",
       "      <td>0 days 00:44:31</td>\n",
       "    </tr>\n",
       "  </tbody>\n",
       "</table>\n",
       "</div>"
      ],
      "text/plain": [
       "             published_date       artist  \\\n",
       "0 2020-11-09 08:15:27+00:00  MB DATA Boy   \n",
       "1 2020-08-25 08:53:21+00:00  MB DATA Boy   \n",
       "2 2020-12-19 20:32:49+00:00  MB DATA Boy   \n",
       "3 2021-01-20 10:23:19+00:00  MB DATA Boy   \n",
       "4 2020-07-08 10:00:18+00:00  MB DATA Boy   \n",
       "5 2020-09-27 15:14:31+00:00  MB DATA Boy   \n",
       "6 2020-08-05 08:22:24+00:00  MB DATA Boy   \n",
       "7 2020-08-05 08:21:54+00:00  MB DATA Boy   \n",
       "8 2020-09-07 11:32:18+00:00  MB DATA Boy   \n",
       "\n",
       "                                               title likes dislikes   views  \\\n",
       "0      Dj Chento - Ndahwera ft MB Data & Esther Nish  3783      111  183056   \n",
       "1                  Mb Data - Bucece (Official Video)  2981       51   91720   \n",
       "2                    Mb Data - Mawe (Official Video)  2375       43   49273   \n",
       "3             Mb Data - Fata (Official video Lyrics)  1779       26   27531   \n",
       "4         Mb Data - Nokunangararako (Official Audio)  1230       21   20834   \n",
       "5              MB Data - Izo niBiya (Official Audio)  1122       10   18416   \n",
       "6            GITEGA full Live Performance by MB Data   163        1    1542   \n",
       "7  MB Data V.I.P Concert (Kigobe Summer Party) Fu...    73        0     797   \n",
       "8  MB Data Full Performance in SOROREZO/ BUJUMBUR...    72        2     749   \n",
       "\n",
       "   duration       duration2  \n",
       "0    PT3M4S 0 days 00:03:04  \n",
       "1   PT3M41S 0 days 00:03:41  \n",
       "2    PT3M5S 0 days 00:03:05  \n",
       "3   PT2M56S 0 days 00:02:56  \n",
       "4   PT2M49S 0 days 00:02:49  \n",
       "5   PT1M57S 0 days 00:01:57  \n",
       "6  PT36M24S 0 days 00:36:24  \n",
       "7   PT42M3S 0 days 00:42:03  \n",
       "8  PT44M31S 0 days 00:44:31  "
      ]
     },
     "execution_count": 29,
     "metadata": {},
     "output_type": "execute_result"
    }
   ],
   "source": [
    "mb_data = pd.DataFrame(stats, columns=[\"published_date\",\"artist\",\"title\",\"likes\", \"dislikes\", \"views\", \"duration\" ])\n",
    "mb_data['published_date'] = pd.to_datetime(mb_data['published_date'], format='%Y-%m-%d %H:%M')\n",
    "\n",
    "l = []\n",
    "#a = kirikou_akili['duration']\n",
    "for c in mb_data['duration']:\n",
    "    dur=isodate.parse_duration(c)\n",
    "    l.append(dur)\n",
    "    \n",
    "new_l = pd.DataFrame(l, columns=[\"duration_conversion\"])\n",
    "#new_l\n",
    "mb_data['duration2'] = new_l\n",
    "mb_data"
   ]
  },
  {
   "cell_type": "code",
   "execution_count": 30,
   "id": "genuine-tattoo",
   "metadata": {},
   "outputs": [
    {
     "name": "stdout",
     "output_type": "stream",
     "text": [
      "<class 'pandas.core.frame.DataFrame'>\n",
      "RangeIndex: 9 entries, 0 to 8\n",
      "Data columns (total 8 columns):\n",
      " #   Column          Non-Null Count  Dtype              \n",
      "---  ------          --------------  -----              \n",
      " 0   published_date  9 non-null      datetime64[ns, UTC]\n",
      " 1   artist          9 non-null      object             \n",
      " 2   title           9 non-null      object             \n",
      " 3   likes           9 non-null      object             \n",
      " 4   dislikes        9 non-null      object             \n",
      " 5   views           9 non-null      object             \n",
      " 6   duration        9 non-null      object             \n",
      " 7   duration2       9 non-null      timedelta64[ns]    \n",
      "dtypes: datetime64[ns, UTC](1), object(6), timedelta64[ns](1)\n",
      "memory usage: 704.0+ bytes\n"
     ]
    }
   ],
   "source": [
    "mb_data.info()"
   ]
  },
  {
   "cell_type": "code",
   "execution_count": 31,
   "id": "outer-arrangement",
   "metadata": {},
   "outputs": [
    {
     "data": {
      "text/plain": [
       "(9, 8)"
      ]
     },
     "execution_count": 31,
     "metadata": {},
     "output_type": "execute_result"
    }
   ],
   "source": [
    "mb_data.shape"
   ]
  },
  {
   "cell_type": "code",
   "execution_count": 32,
   "id": "egyptian-sector",
   "metadata": {},
   "outputs": [],
   "source": [
    "mb_data.to_csv('mb_data.csv', index=False)"
   ]
  },
  {
   "cell_type": "code",
   "execution_count": null,
   "id": "swiss-newspaper",
   "metadata": {},
   "outputs": [],
   "source": []
  }
 ],
 "metadata": {
  "kernelspec": {
   "display_name": "Python 3",
   "language": "python",
   "name": "python3"
  },
  "language_info": {
   "codemirror_mode": {
    "name": "ipython",
    "version": 3
   },
   "file_extension": ".py",
   "mimetype": "text/x-python",
   "name": "python",
   "nbconvert_exporter": "python",
   "pygments_lexer": "ipython3",
   "version": "3.8.5"
  }
 },
 "nbformat": 4,
 "nbformat_minor": 5
}
